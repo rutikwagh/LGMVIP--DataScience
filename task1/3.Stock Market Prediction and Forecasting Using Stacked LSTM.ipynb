{
 "cells": [
  {
   "cell_type": "markdown",
   "metadata": {},
   "source": [
    "# Stock Market Prediction and Forecasting Using Stacked LSTM\n",
    "Using Keras and Tensorflow\n",
    "\n",
    "##### Dataset\n",
    "Yahoo Finance - Stock of Reliance Industries Limited\n",
    "NSE: RELIANCE: https://finance.yahoo.com/quote/RELIANCE.NS/history?period1=1433635200&period2=1591488000&interval=1d&filter=history&frequency=1d"
   ]
  },
  {
   "cell_type": "code",
   "execution_count": 1,
   "metadata": {},
   "outputs": [],
   "source": [
    "#Import necessary Libraries\n",
    "import pandas as pd\n",
    "import numpy as np\n",
    "import math\n",
    "import matplotlib.pyplot as plt\n",
    "from sklearn.preprocessing import MinMaxScaler\n",
    "from sklearn.metrics import mean_squared_error\n",
    "import tensorflow as tf\n",
    "from tensorflow.python.keras.models import Sequential\n",
    "from tensorflow.python.keras.layers import Dense\n",
    "from tensorflow.python.keras.layers import LSTM\n",
    "%matplotlib inline"
   ]
  },
  {
   "cell_type": "code",
   "execution_count": 2,
   "metadata": {},
   "outputs": [
    {
     "name": "stdout",
     "output_type": "stream",
     "text": [
      "<class 'pandas.core.frame.DataFrame'>\n",
      "Int64Index: 1228 entries, 0 to 1228\n",
      "Data columns (total 7 columns):\n",
      " #   Column     Non-Null Count  Dtype  \n",
      "---  ------     --------------  -----  \n",
      " 0   Date       1228 non-null   object \n",
      " 1   Open       1228 non-null   float64\n",
      " 2   High       1228 non-null   float64\n",
      " 3   Low        1228 non-null   float64\n",
      " 4   Close      1228 non-null   float64\n",
      " 5   Adj Close  1228 non-null   float64\n",
      " 6   Volume     1228 non-null   float64\n",
      "dtypes: float64(6), object(1)\n",
      "memory usage: 76.8+ KB\n"
     ]
    }
   ],
   "source": [
    "#Import the data and remove rows containing NAN values\n",
    "df = pd.read_csv('Reliance_Stock.csv')\n",
    "df = df.dropna()\n",
    "df.info()"
   ]
  },
  {
   "cell_type": "code",
   "execution_count": 3,
   "metadata": {},
   "outputs": [
    {
     "data": {
      "text/html": [
       "<div>\n",
       "<style scoped>\n",
       "    .dataframe tbody tr th:only-of-type {\n",
       "        vertical-align: middle;\n",
       "    }\n",
       "\n",
       "    .dataframe tbody tr th {\n",
       "        vertical-align: top;\n",
       "    }\n",
       "\n",
       "    .dataframe thead th {\n",
       "        text-align: right;\n",
       "    }\n",
       "</style>\n",
       "<table border=\"1\" class=\"dataframe\">\n",
       "  <thead>\n",
       "    <tr style=\"text-align: right;\">\n",
       "      <th></th>\n",
       "      <th>Date</th>\n",
       "      <th>Open</th>\n",
       "      <th>High</th>\n",
       "      <th>Low</th>\n",
       "      <th>Close</th>\n",
       "      <th>Adj Close</th>\n",
       "      <th>Volume</th>\n",
       "    </tr>\n",
       "  </thead>\n",
       "  <tbody>\n",
       "    <tr>\n",
       "      <th>0</th>\n",
       "      <td>2015-06-08</td>\n",
       "      <td>453.399994</td>\n",
       "      <td>455.000000</td>\n",
       "      <td>441.549988</td>\n",
       "      <td>442.725006</td>\n",
       "      <td>425.550629</td>\n",
       "      <td>4958862.0</td>\n",
       "    </tr>\n",
       "    <tr>\n",
       "      <th>1</th>\n",
       "      <td>2015-06-09</td>\n",
       "      <td>441.774994</td>\n",
       "      <td>445.325012</td>\n",
       "      <td>438.674988</td>\n",
       "      <td>441.850006</td>\n",
       "      <td>424.709564</td>\n",
       "      <td>4184606.0</td>\n",
       "    </tr>\n",
       "    <tr>\n",
       "      <th>2</th>\n",
       "      <td>2015-06-10</td>\n",
       "      <td>443.000000</td>\n",
       "      <td>454.950012</td>\n",
       "      <td>442.500000</td>\n",
       "      <td>452.899994</td>\n",
       "      <td>435.330933</td>\n",
       "      <td>6176034.0</td>\n",
       "    </tr>\n",
       "    <tr>\n",
       "      <th>3</th>\n",
       "      <td>2015-06-11</td>\n",
       "      <td>453.000000</td>\n",
       "      <td>454.750000</td>\n",
       "      <td>436.825012</td>\n",
       "      <td>438.575012</td>\n",
       "      <td>421.561676</td>\n",
       "      <td>6709574.0</td>\n",
       "    </tr>\n",
       "    <tr>\n",
       "      <th>4</th>\n",
       "      <td>2015-06-12</td>\n",
       "      <td>439.500000</td>\n",
       "      <td>446.350006</td>\n",
       "      <td>439.125000</td>\n",
       "      <td>444.924988</td>\n",
       "      <td>427.665283</td>\n",
       "      <td>9849112.0</td>\n",
       "    </tr>\n",
       "  </tbody>\n",
       "</table>\n",
       "</div>"
      ],
      "text/plain": [
       "         Date        Open        High         Low       Close   Adj Close  \\\n",
       "0  2015-06-08  453.399994  455.000000  441.549988  442.725006  425.550629   \n",
       "1  2015-06-09  441.774994  445.325012  438.674988  441.850006  424.709564   \n",
       "2  2015-06-10  443.000000  454.950012  442.500000  452.899994  435.330933   \n",
       "3  2015-06-11  453.000000  454.750000  436.825012  438.575012  421.561676   \n",
       "4  2015-06-12  439.500000  446.350006  439.125000  444.924988  427.665283   \n",
       "\n",
       "      Volume  \n",
       "0  4958862.0  \n",
       "1  4184606.0  \n",
       "2  6176034.0  \n",
       "3  6709574.0  \n",
       "4  9849112.0  "
      ]
     },
     "execution_count": 3,
     "metadata": {},
     "output_type": "execute_result"
    }
   ],
   "source": [
    "df.head()"
   ]
  },
  {
   "cell_type": "code",
   "execution_count": 4,
   "metadata": {},
   "outputs": [
    {
     "data": {
      "text/html": [
       "<div>\n",
       "<style scoped>\n",
       "    .dataframe tbody tr th:only-of-type {\n",
       "        vertical-align: middle;\n",
       "    }\n",
       "\n",
       "    .dataframe tbody tr th {\n",
       "        vertical-align: top;\n",
       "    }\n",
       "\n",
       "    .dataframe thead th {\n",
       "        text-align: right;\n",
       "    }\n",
       "</style>\n",
       "<table border=\"1\" class=\"dataframe\">\n",
       "  <thead>\n",
       "    <tr style=\"text-align: right;\">\n",
       "      <th></th>\n",
       "      <th>Date</th>\n",
       "      <th>Open</th>\n",
       "      <th>High</th>\n",
       "      <th>Low</th>\n",
       "      <th>Close</th>\n",
       "      <th>Adj Close</th>\n",
       "      <th>Volume</th>\n",
       "    </tr>\n",
       "  </thead>\n",
       "  <tbody>\n",
       "    <tr>\n",
       "      <th>1224</th>\n",
       "      <td>2020-06-01</td>\n",
       "      <td>1480.0</td>\n",
       "      <td>1538.349976</td>\n",
       "      <td>1475.949951</td>\n",
       "      <td>1520.349976</td>\n",
       "      <td>1520.349976</td>\n",
       "      <td>18434012.0</td>\n",
       "    </tr>\n",
       "    <tr>\n",
       "      <th>1225</th>\n",
       "      <td>2020-06-02</td>\n",
       "      <td>1526.0</td>\n",
       "      <td>1540.000000</td>\n",
       "      <td>1520.800049</td>\n",
       "      <td>1535.699951</td>\n",
       "      <td>1535.699951</td>\n",
       "      <td>10224049.0</td>\n",
       "    </tr>\n",
       "    <tr>\n",
       "      <th>1226</th>\n",
       "      <td>2020-06-03</td>\n",
       "      <td>1545.0</td>\n",
       "      <td>1560.000000</td>\n",
       "      <td>1533.349976</td>\n",
       "      <td>1541.650024</td>\n",
       "      <td>1541.650024</td>\n",
       "      <td>11713461.0</td>\n",
       "    </tr>\n",
       "    <tr>\n",
       "      <th>1227</th>\n",
       "      <td>2020-06-04</td>\n",
       "      <td>1544.0</td>\n",
       "      <td>1589.500000</td>\n",
       "      <td>1541.000000</td>\n",
       "      <td>1579.800049</td>\n",
       "      <td>1579.800049</td>\n",
       "      <td>15784379.0</td>\n",
       "    </tr>\n",
       "    <tr>\n",
       "      <th>1228</th>\n",
       "      <td>2020-06-05</td>\n",
       "      <td>1595.0</td>\n",
       "      <td>1618.000000</td>\n",
       "      <td>1573.699951</td>\n",
       "      <td>1581.699951</td>\n",
       "      <td>1581.699951</td>\n",
       "      <td>15246965.0</td>\n",
       "    </tr>\n",
       "  </tbody>\n",
       "</table>\n",
       "</div>"
      ],
      "text/plain": [
       "            Date    Open         High          Low        Close    Adj Close  \\\n",
       "1224  2020-06-01  1480.0  1538.349976  1475.949951  1520.349976  1520.349976   \n",
       "1225  2020-06-02  1526.0  1540.000000  1520.800049  1535.699951  1535.699951   \n",
       "1226  2020-06-03  1545.0  1560.000000  1533.349976  1541.650024  1541.650024   \n",
       "1227  2020-06-04  1544.0  1589.500000  1541.000000  1579.800049  1579.800049   \n",
       "1228  2020-06-05  1595.0  1618.000000  1573.699951  1581.699951  1581.699951   \n",
       "\n",
       "          Volume  \n",
       "1224  18434012.0  \n",
       "1225  10224049.0  \n",
       "1226  11713461.0  \n",
       "1227  15784379.0  \n",
       "1228  15246965.0  "
      ]
     },
     "execution_count": 4,
     "metadata": {},
     "output_type": "execute_result"
    }
   ],
   "source": [
    "df.tail()"
   ]
  },
  {
   "cell_type": "code",
   "execution_count": 5,
   "metadata": {},
   "outputs": [
    {
     "data": {
      "text/plain": [
       "(1228, 7)"
      ]
     },
     "execution_count": 5,
     "metadata": {},
     "output_type": "execute_result"
    }
   ],
   "source": [
    "df.shape"
   ]
  },
  {
   "cell_type": "code",
   "execution_count": 6,
   "metadata": {},
   "outputs": [],
   "source": [
    "df_close = df['Close']"
   ]
  },
  {
   "cell_type": "code",
   "execution_count": 7,
   "metadata": {},
   "outputs": [
    {
     "data": {
      "text/plain": [
       "(1228,)"
      ]
     },
     "execution_count": 7,
     "metadata": {},
     "output_type": "execute_result"
    }
   ],
   "source": [
    "df_close.shape"
   ]
  },
  {
   "cell_type": "code",
   "execution_count": 8,
   "metadata": {},
   "outputs": [
    {
     "data": {
      "text/plain": [
       "[<matplotlib.lines.Line2D at 0x16dcd960e20>]"
      ]
     },
     "execution_count": 8,
     "metadata": {},
     "output_type": "execute_result"
    },
    {
     "data": {
      "image/png": "[encoded data removed]",
      "text/plain": [
       "<Figure size 432x288 with 1 Axes>"
      ]
     },
     "metadata": {
      "needs_background": "light"
     },
     "output_type": "display_data"
    }
   ],
   "source": [
    "plt.plot(df_close)"
   ]
  },
  {
   "cell_type": "markdown",
   "metadata": {},
   "source": [
    "Since LSTM are sensitive to the scale of the data, so we apply MinMax Scaler to transform our values between 0 and 1"
   ]
  },
  {
   "cell_type": "code",
   "execution_count": 9,
   "metadata": {},
   "outputs": [],
   "source": [
    "scaler = MinMaxScaler(feature_range = (0,1))\n",
    "df_close = scaler.fit_transform(np.array(df_close).reshape(-1,1))"
   ]
  },
  {
   "cell_type": "code",
   "execution_count": 10,
   "metadata": {},
   "outputs": [
    {
     "data": {
      "text/plain": [
       "(1228, 1)"
      ]
     },
     "execution_count": 10,
     "metadata": {},
     "output_type": "execute_result"
    }
   ],
   "source": [
    "df_close.shape"
   ]
  },
  {
   "cell_type": "code",
   "execution_count": 11,
   "metadata": {},
   "outputs": [
    {
     "name": "stdout",
     "output_type": "stream",
     "text": [
      "[[0.02338571]\n",
      " [0.0226536 ]\n",
      " [0.0318991 ]\n",
      " ...\n",
      " [0.94285362]\n",
      " [0.97477365]\n",
      " [0.97636329]]\n"
     ]
    }
   ],
   "source": [
    "print(df_close)"
   ]
  },
  {
   "cell_type": "code",
   "execution_count": 12,
   "metadata": {},
   "outputs": [],
   "source": [
    "#Split the data into train and test split\n",
    "training_size = int(len(df_close) * 0.75)\n",
    "test_size = len(df_close) - training_size\n",
    "train_data, test_data = df_close[0:training_size,:], df_close[training_size:len(df_close),:1]"
   ]
  },
  {
   "cell_type": "code",
   "execution_count": 13,
   "metadata": {},
   "outputs": [],
   "source": [
    "def create_dataset(dataset, time_step = 1):\n",
    "    dataX, dataY = [], []\n",
    "    for i in range(len(dataset) - time_step - 1):\n",
    "        a = dataset[i:(i+time_step), 0]\n",
    "        dataX.append(a)\n",
    "        dataY.append(dataset[i+time_step, 0])\n",
    "    return np.array(dataX), np.array(dataY)"
   ]
  },
  {
   "cell_type": "code",
   "execution_count": 14,
   "metadata": {},
   "outputs": [],
   "source": [
    "time_step = 100\n",
    "x_train, y_train = create_dataset(train_data, time_step)\n",
    "x_test, y_test = create_dataset(test_data, time_step)"
   ]
  },
  {
   "cell_type": "code",
   "execution_count": 15,
   "metadata": {},
   "outputs": [],
   "source": [
    "#Reshape the input to be [samples, time steps, features] which is the requirement of LSTM\n",
    "x_train = x_train.reshape(x_train.shape[0], x_train.shape[1], 1)\n",
    "x_test = x_test.reshape(x_test.shape[0], x_test.shape[1], 1)"
   ]
  },
  {
   "cell_type": "code",
   "execution_count": 16,
   "metadata": {},
   "outputs": [],
   "source": [
    "#Create the LSTM Model\n",
    "model = Sequential()\n",
    "model.add(LSTM(50, return_sequences = True, input_shape = (100,1)))\n",
    "model.add(LSTM(50, return_sequences = True))\n",
    "model.add(LSTM(50))\n",
    "model.add(Dense(1))\n",
    "model.compile(loss = 'mean_squared_error', optimizer = 'adam')\n"
   ]
  },
  {
   "cell_type": "code",
   "execution_count": 17,
   "metadata": {},
   "outputs": [
    {
     "name": "stdout",
     "output_type": "stream",
     "text": [
      "Model: \"sequential\"\n",
      "_________________________________________________________________\n",
      "Layer (type)                 Output Shape              Param #   \n",
      "=================================================================\n",
      "lstm (LSTM)                  (None, 100, 50)           10400     \n",
      "_________________________________________________________________\n",
      "lstm_1 (LSTM)                (None, 100, 50)           20200     \n",
      "_________________________________________________________________\n",
      "lstm_2 (LSTM)                (None, 50)                20200     \n",
      "_________________________________________________________________\n",
      "dense (Dense)                (None, 1)                 51        \n",
      "=================================================================\n",
      "Total params: 50,851\n",
      "Trainable params: 50,851\n",
      "Non-trainable params: 0\n",
      "_________________________________________________________________\n"
     ]
    }
   ],
   "source": [
    "model.summary()"
   ]
  },
  {
   "cell_type": "code",
   "execution_count": 18,
   "metadata": {
    "scrolled": false
   },
   "outputs": [
    {
     "name": "stdout",
     "output_type": "stream",
     "text": [
      "Epoch 1/100\n",
      "13/13 [==============================] - 7s 171ms/step - loss: 0.0528 - val_loss: 0.0177\n",
      "Epoch 2/100\n",
      "13/13 [==============================] - 2s 127ms/step - loss: 0.0089 - val_loss: 0.0093\n",
      "Epoch 3/100\n",
      "13/13 [==============================] - 2s 131ms/step - loss: 0.0031 - val_loss: 0.0100\n",
      "Epoch 4/100\n",
      "13/13 [==============================] - 2s 125ms/step - loss: 0.0013 - val_loss: 0.0097\n",
      "Epoch 5/100\n",
      "13/13 [==============================] - 2s 122ms/step - loss: 0.0011 - val_loss: 0.0093\n",
      "Epoch 6/100\n",
      "13/13 [==============================] - 2s 121ms/step - loss: 0.0010 - val_loss: 0.0088\n",
      "Epoch 7/100\n",
      "13/13 [==============================] - 2s 121ms/step - loss: 9.3504e-04 - val_loss: 0.0085\n",
      "Epoch 8/100\n",
      "13/13 [==============================] - 2s 120ms/step - loss: 9.3095e-04 - val_loss: 0.0084\n",
      "Epoch 9/100\n",
      "13/13 [==============================] - 2s 127ms/step - loss: 9.0482e-04 - val_loss: 0.0087\n",
      "Epoch 10/100\n",
      "13/13 [==============================] - 2s 125ms/step - loss: 9.4819e-04 - val_loss: 0.0082\n",
      "Epoch 11/100\n",
      "13/13 [==============================] - 2s 121ms/step - loss: 9.2424e-04 - val_loss: 0.0079\n",
      "Epoch 12/100\n",
      "13/13 [==============================] - 2s 122ms/step - loss: 8.7525e-04 - val_loss: 0.0078\n",
      "Epoch 13/100\n",
      "13/13 [==============================] - 2s 121ms/step - loss: 8.9265e-04 - val_loss: 0.0079\n",
      "Epoch 14/100\n",
      "13/13 [==============================] - 2s 121ms/step - loss: 8.4029e-04 - val_loss: 0.0084\n",
      "Epoch 15/100\n",
      "13/13 [==============================] - 2s 124ms/step - loss: 8.2004e-04 - val_loss: 0.0095\n",
      "Epoch 16/100\n",
      "13/13 [==============================] - 2s 131ms/step - loss: 8.5723e-04 - val_loss: 0.0074\n",
      "Epoch 17/100\n",
      "13/13 [==============================] - 2s 125ms/step - loss: 8.3371e-04 - val_loss: 0.0070\n",
      "Epoch 18/100\n",
      "13/13 [==============================] - 2s 122ms/step - loss: 8.1449e-04 - val_loss: 0.0077\n",
      "Epoch 19/100\n",
      "13/13 [==============================] - 2s 124ms/step - loss: 8.0805e-04 - val_loss: 0.0090\n",
      "Epoch 20/100\n",
      "13/13 [==============================] - 2s 122ms/step - loss: 7.8676e-04 - val_loss: 0.0070\n",
      "Epoch 21/100\n",
      "13/13 [==============================] - 2s 121ms/step - loss: 7.5015e-04 - val_loss: 0.0067\n",
      "Epoch 22/100\n",
      "13/13 [==============================] - 2s 128ms/step - loss: 7.3735e-04 - val_loss: 0.0102\n",
      "Epoch 23/100\n",
      "13/13 [==============================] - 2s 129ms/step - loss: 7.6627e-04 - val_loss: 0.0074\n",
      "Epoch 24/100\n",
      "13/13 [==============================] - 2s 124ms/step - loss: 7.6480e-04 - val_loss: 0.0063\n",
      "Epoch 25/100\n",
      "13/13 [==============================] - 2s 125ms/step - loss: 7.8464e-04 - val_loss: 0.0087\n",
      "Epoch 26/100\n",
      "13/13 [==============================] - 2s 124ms/step - loss: 8.1036e-04 - val_loss: 0.0061\n",
      "Epoch 27/100\n",
      "13/13 [==============================] - 2s 124ms/step - loss: 7.6868e-04 - val_loss: 0.0071\n",
      "Epoch 28/100\n",
      "13/13 [==============================] - 2s 127ms/step - loss: 8.8332e-04 - val_loss: 0.0067\n",
      "Epoch 29/100\n",
      "13/13 [==============================] - 2s 129ms/step - loss: 7.7211e-04 - val_loss: 0.0081\n",
      "Epoch 30/100\n",
      "13/13 [==============================] - 2s 125ms/step - loss: 6.6087e-04 - val_loss: 0.0059\n",
      "Epoch 31/100\n",
      "13/13 [==============================] - 2s 126ms/step - loss: 6.4840e-04 - val_loss: 0.0052\n",
      "Epoch 32/100\n",
      "13/13 [==============================] - 2s 123ms/step - loss: 6.6428e-04 - val_loss: 0.0109\n",
      "Epoch 33/100\n",
      "13/13 [==============================] - 2s 124ms/step - loss: 7.1207e-04 - val_loss: 0.0055\n",
      "Epoch 34/100\n",
      "13/13 [==============================] - 2s 124ms/step - loss: 6.2523e-04 - val_loss: 0.0064\n",
      "Epoch 35/100\n",
      "13/13 [==============================] - 2s 131ms/step - loss: 6.1943e-04 - val_loss: 0.0052\n",
      "Epoch 36/100\n",
      "13/13 [==============================] - 2s 129ms/step - loss: 6.3483e-04 - val_loss: 0.0054\n",
      "Epoch 37/100\n",
      "13/13 [==============================] - 2s 126ms/step - loss: 6.3010e-04 - val_loss: 0.0096\n",
      "Epoch 38/100\n",
      "13/13 [==============================] - 2s 124ms/step - loss: 7.6836e-04 - val_loss: 0.0041\n",
      "Epoch 39/100\n",
      "13/13 [==============================] - 2s 124ms/step - loss: 6.4589e-04 - val_loss: 0.0075\n",
      "Epoch 40/100\n",
      "13/13 [==============================] - 2s 123ms/step - loss: 6.2415e-04 - val_loss: 0.0044\n",
      "Epoch 41/100\n",
      "13/13 [==============================] - 2s 126ms/step - loss: 6.6053e-04 - val_loss: 0.0081\n",
      "Epoch 42/100\n",
      "13/13 [==============================] - 2s 128ms/step - loss: 6.0306e-04 - val_loss: 0.0066\n",
      "Epoch 43/100\n",
      "13/13 [==============================] - 2s 123ms/step - loss: 5.8625e-04 - val_loss: 0.0075\n",
      "Epoch 44/100\n",
      "13/13 [==============================] - 2s 123ms/step - loss: 5.9778e-04 - val_loss: 0.0065\n",
      "Epoch 45/100\n",
      "13/13 [==============================] - 2s 123ms/step - loss: 5.8294e-04 - val_loss: 0.0085\n",
      "Epoch 46/100\n",
      "13/13 [==============================] - 2s 122ms/step - loss: 5.9929e-04 - val_loss: 0.0063\n",
      "Epoch 47/100\n",
      "13/13 [==============================] - 2s 122ms/step - loss: 5.9293e-04 - val_loss: 0.0047\n",
      "Epoch 48/100\n",
      "13/13 [==============================] - 2s 129ms/step - loss: 6.2526e-04 - val_loss: 0.0090\n",
      "Epoch 49/100\n",
      "13/13 [==============================] - 2s 125ms/step - loss: 6.6257e-04 - val_loss: 0.0043\n",
      "Epoch 50/100\n",
      "13/13 [==============================] - 2s 125ms/step - loss: 7.0798e-04 - val_loss: 0.0089\n",
      "Epoch 51/100\n",
      "13/13 [==============================] - 2s 121ms/step - loss: 6.2537e-04 - val_loss: 0.0054\n",
      "Epoch 52/100\n",
      "13/13 [==============================] - 2s 122ms/step - loss: 5.5635e-04 - val_loss: 0.0088\n",
      "Epoch 53/100\n",
      "13/13 [==============================] - 2s 126ms/step - loss: 5.5751e-04 - val_loss: 0.0051\n",
      "Epoch 54/100\n",
      "13/13 [==============================] - 2s 129ms/step - loss: 5.5121e-04 - val_loss: 0.0086\n",
      "Epoch 55/100\n",
      "13/13 [==============================] - 2s 127ms/step - loss: 5.4982e-04 - val_loss: 0.0059\n",
      "Epoch 56/100\n",
      "13/13 [==============================] - 2s 121ms/step - loss: 5.5000e-04 - val_loss: 0.0060\n",
      "Epoch 57/100\n",
      "13/13 [==============================] - 2s 121ms/step - loss: 5.2231e-04 - val_loss: 0.0060\n",
      "Epoch 58/100\n",
      "13/13 [==============================] - 2s 122ms/step - loss: 5.2553e-04 - val_loss: 0.0062\n",
      "Epoch 59/100\n",
      "13/13 [==============================] - 2s 121ms/step - loss: 5.1860e-04 - val_loss: 0.0068\n",
      "Epoch 60/100\n",
      "13/13 [==============================] - 2s 121ms/step - loss: 5.1450e-04 - val_loss: 0.0056\n",
      "Epoch 61/100\n",
      "13/13 [==============================] - 2s 128ms/step - loss: 5.0328e-04 - val_loss: 0.0041\n",
      "Epoch 62/100\n",
      "13/13 [==============================] - 2s 128ms/step - loss: 5.9493e-04 - val_loss: 0.0070\n",
      "Epoch 63/100\n",
      "13/13 [==============================] - 2s 124ms/step - loss: 5.7251e-04 - val_loss: 0.0065\n",
      "Epoch 64/100\n",
      "13/13 [==============================] - 2s 123ms/step - loss: 5.7772e-04 - val_loss: 0.0035\n",
      "Epoch 65/100\n",
      "13/13 [==============================] - 2s 123ms/step - loss: 5.6719e-04 - val_loss: 0.0047\n",
      "Epoch 66/100\n",
      "13/13 [==============================] - 2s 123ms/step - loss: 5.1774e-04 - val_loss: 0.0051\n",
      "Epoch 67/100\n",
      "13/13 [==============================] - 2s 126ms/step - loss: 4.9500e-04 - val_loss: 0.0051\n",
      "Epoch 68/100\n",
      "13/13 [==============================] - 2s 128ms/step - loss: 5.0471e-04 - val_loss: 0.0031\n",
      "Epoch 69/100\n",
      "13/13 [==============================] - 2s 122ms/step - loss: 5.7404e-04 - val_loss: 0.0078\n",
      "Epoch 70/100\n",
      "13/13 [==============================] - 2s 123ms/step - loss: 5.9109e-04 - val_loss: 0.0055\n",
      "Epoch 71/100\n",
      "13/13 [==============================] - 2s 120ms/step - loss: 5.0024e-04 - val_loss: 0.0058\n",
      "Epoch 72/100\n",
      "13/13 [==============================] - 2s 123ms/step - loss: 4.9876e-04 - val_loss: 0.0036\n",
      "Epoch 73/100\n",
      "13/13 [==============================] - 2s 123ms/step - loss: 4.8285e-04 - val_loss: 0.0070\n",
      "Epoch 74/100\n",
      "13/13 [==============================] - 2s 132ms/step - loss: 5.2004e-04 - val_loss: 0.0047\n",
      "Epoch 75/100\n",
      "13/13 [==============================] - 2s 126ms/step - loss: 5.1002e-04 - val_loss: 0.0037\n",
      "Epoch 76/100\n",
      "13/13 [==============================] - 2s 125ms/step - loss: 5.2645e-04 - val_loss: 0.0047\n",
      "Epoch 77/100\n",
      "13/13 [==============================] - 2s 124ms/step - loss: 4.7951e-04 - val_loss: 0.0046\n",
      "Epoch 78/100\n"
     ]
    },
    {
     "name": "stdout",
     "output_type": "stream",
     "text": [
      "13/13 [==============================] - 2s 121ms/step - loss: 4.8104e-04 - val_loss: 0.0069\n",
      "Epoch 79/100\n",
      "13/13 [==============================] - 2s 119ms/step - loss: 5.2133e-04 - val_loss: 0.0029\n",
      "Epoch 80/100\n",
      "13/13 [==============================] - 2s 123ms/step - loss: 4.6856e-04 - val_loss: 0.0047\n",
      "Epoch 81/100\n",
      "13/13 [==============================] - 2s 129ms/step - loss: 4.8200e-04 - val_loss: 0.0030\n",
      "Epoch 82/100\n",
      "13/13 [==============================] - 2s 124ms/step - loss: 4.8890e-04 - val_loss: 0.0062\n",
      "Epoch 83/100\n",
      "13/13 [==============================] - 2s 120ms/step - loss: 5.0643e-04 - val_loss: 0.0029\n",
      "Epoch 84/100\n",
      "13/13 [==============================] - 2s 122ms/step - loss: 4.6991e-04 - val_loss: 0.0040\n",
      "Epoch 85/100\n",
      "13/13 [==============================] - 2s 119ms/step - loss: 4.3518e-04 - val_loss: 0.0032\n",
      "Epoch 86/100\n",
      "13/13 [==============================] - 2s 122ms/step - loss: 4.7917e-04 - val_loss: 0.0032\n",
      "Epoch 87/100\n",
      "13/13 [==============================] - 2s 129ms/step - loss: 4.4985e-04 - val_loss: 0.0058\n",
      "Epoch 88/100\n",
      "13/13 [==============================] - 2s 125ms/step - loss: 5.0107e-04 - val_loss: 0.0051\n",
      "Epoch 89/100\n",
      "13/13 [==============================] - 2s 121ms/step - loss: 4.6802e-04 - val_loss: 0.0027\n",
      "Epoch 90/100\n",
      "13/13 [==============================] - 2s 120ms/step - loss: 4.5712e-04 - val_loss: 0.0031\n",
      "Epoch 91/100\n",
      "13/13 [==============================] - 2s 120ms/step - loss: 4.1585e-04 - val_loss: 0.0026\n",
      "Epoch 92/100\n",
      "13/13 [==============================] - 2s 120ms/step - loss: 4.4025e-04 - val_loss: 0.0029\n",
      "Epoch 93/100\n",
      "13/13 [==============================] - 2s 123ms/step - loss: 4.1175e-04 - val_loss: 0.0028\n",
      "Epoch 94/100\n",
      "13/13 [==============================] - 2s 127ms/step - loss: 4.8158e-04 - val_loss: 0.0036\n",
      "Epoch 95/100\n",
      "13/13 [==============================] - 2s 122ms/step - loss: 5.4682e-04 - val_loss: 0.0060\n",
      "Epoch 96/100\n",
      "13/13 [==============================] - 2s 120ms/step - loss: 4.3196e-04 - val_loss: 0.0027\n",
      "Epoch 97/100\n",
      "13/13 [==============================] - ETA: 0s - loss: 4.5837e-0 - 2s 121ms/step - loss: 4.5837e-04 - val_loss: 0.0025\n",
      "Epoch 98/100\n",
      "13/13 [==============================] - 2s 122ms/step - loss: 4.4650e-04 - val_loss: 0.0054\n",
      "Epoch 99/100\n",
      "13/13 [==============================] - 2s 121ms/step - loss: 4.4170e-04 - val_loss: 0.0029\n",
      "Epoch 100/100\n",
      "13/13 [==============================] - 2s 128ms/step - loss: 3.8879e-04 - val_loss: 0.0038\n"
     ]
    },
    {
     "data": {
      "text/plain": [
       "<tensorflow.python.keras.callbacks.History at 0x16dd5e38bb0>"
      ]
     },
     "execution_count": 18,
     "metadata": {},
     "output_type": "execute_result"
    }
   ],
   "source": [
    "model.fit(x_train, y_train, validation_data = (x_test, y_test), epochs = 100, batch_size = 64, verbose = 1)"
   ]
  },
  {
   "cell_type": "code",
   "execution_count": 32,
   "metadata": {
    "scrolled": false
   },
   "outputs": [],
   "source": [
    "#Lets predict and check performance metrics\n",
    "train_predict = model.predict(x_train)\n",
    "test_predict = model.predict(x_test)"
   ]
  },
  {
   "cell_type": "code",
   "execution_count": 33,
   "metadata": {},
   "outputs": [],
   "source": [
    "#Transform back to original form\n",
    "train_predict = scaler.inverse_transform(train_predict)\n",
    "test_predict = scaler.inverse_transform(test_predict)"
   ]
  },
  {
   "cell_type": "code",
   "execution_count": 34,
   "metadata": {},
   "outputs": [
    {
     "data": {
      "text/plain": [
       "802.6581290749948"
      ]
     },
     "execution_count": 34,
     "metadata": {},
     "output_type": "execute_result"
    }
   ],
   "source": [
    "#Calculate RMSE performance metrics\n",
    "math.sqrt(mean_squared_error(y_train, train_predict))"
   ]
  },
  {
   "cell_type": "code",
   "execution_count": 35,
   "metadata": {},
   "outputs": [
    {
     "data": {
      "text/plain": [
       "1331.8658249504874"
      ]
     },
     "execution_count": 35,
     "metadata": {},
     "output_type": "execute_result"
    }
   ],
   "source": [
    "#Test Data RMSE\n",
    "math.sqrt(mean_squared_error(y_test, test_predict))"
   ]
  },
  {
   "cell_type": "code",
   "execution_count": 36,
   "metadata": {},
   "outputs": [
    {
     "data": {
      "image/png": "[encoded data removed]",
      "text/plain": [
       "<Figure size 432x288 with 1 Axes>"
      ]
     },
     "metadata": {
      "needs_background": "light"
     },
     "output_type": "display_data"
    }
   ],
   "source": [
    "#Plotting\n",
    "\n",
    "#Shift train prediction for plotting\n",
    "look_back = 100\n",
    "trainPredictPlot = np.empty_like(df_close)\n",
    "trainPredictPlot[:,:] = np.nan\n",
    "trainPredictPlot[look_back:len(train_predict) + look_back, :] = train_predict\n",
    "\n",
    "#Shift test prediction for plotting\n",
    "testPredictPlot = np.empty_like(df_close)\n",
    "testPredictPlot[:,:] = np.nan\n",
    "testPredictPlot[len(train_predict) + (look_back * 2)+1:len(df_close) - 1, :] = test_predict\n",
    "\n",
    "#Plot baseline and predictions\n",
    "plt.plot(scaler.inverse_transform(df_close))\n",
    "plt.plot(trainPredictPlot)\n",
    "plt.plot(testPredictPlot)\n",
    "plt.show()"
   ]
  },
  {
   "cell_type": "markdown",
   "metadata": {},
   "source": [
    "### Predict the next 30 days Stock Price"
   ]
  },
  {
   "cell_type": "code",
   "execution_count": 37,
   "metadata": {},
   "outputs": [
    {
     "data": {
      "text/plain": [
       "(307, (206, 100, 1))"
      ]
     },
     "execution_count": 37,
     "metadata": {},
     "output_type": "execute_result"
    }
   ],
   "source": [
    "len(test_data), x_test.shape"
   ]
  },
  {
   "cell_type": "code",
   "execution_count": 38,
   "metadata": {},
   "outputs": [
    {
     "data": {
      "text/plain": [
       "(1, 100)"
      ]
     },
     "execution_count": 38,
     "metadata": {},
     "output_type": "execute_result"
    }
   ],
   "source": [
    "x_input = test_data[207:].reshape(1,-1)\n",
    "x_input.shape"
   ]
  },
  {
   "cell_type": "code",
   "execution_count": 26,
   "metadata": {},
   "outputs": [],
   "source": [
    "temp_input = list(x_input)\n",
    "temp_input = temp_input[0].tolist()\n"
   ]
  },
  {
   "cell_type": "code",
   "execution_count": 39,
   "metadata": {
    "scrolled": false
   },
   "outputs": [
    {
     "name": "stdout",
     "output_type": "stream",
     "text": [
      "0 day input [0.91118463 0.8962495  0.8619449  0.83805724 0.8176418  0.81283079\n",
      " 0.76463703 0.75417831 0.7765181  0.77388248 0.74999482 0.71640139\n",
      " 0.5851654  0.6181313  0.5423683  0.57776065 0.50279251 0.49634993\n",
      " 0.46330038 0.42079615 0.50467508 0.39264125 0.44229929 0.55847473\n",
      " 0.54504569 0.54454369 0.51513375 0.5848307  0.55696863 0.55445854\n",
      " 0.6620997  0.65042781 0.67368794 0.64791772 0.61503546 0.63026342\n",
      " 0.67707661 0.69364326 0.6882465  0.79387957 0.7999875  0.83855924\n",
      " 0.84922714 0.84788844 0.84688434 0.86803608 0.84250843 0.86360165\n",
      " 0.86368529 0.90198096 0.9474387  0.95987202 0.87902192 0.90503482\n",
      " 0.85441462 0.87403524 0.85843081 0.83178201 0.85253205 0.85884916\n",
      " 0.85073323 0.844458   0.862447   0.88478678 0.87821873 0.92503192\n",
      " 0.9378752  0.94285362 0.97477365 0.97636329 0.90432    0.90199876\n",
      " 0.89197659 0.87909275 0.8654539  0.85194856 0.83894658 0.82637954\n",
      " 0.81456196 0.80347401 0.79300737 0.78305733 0.77352643 0.76432538\n",
      " 0.75537455 0.74660504 0.73795944 0.72939104 0.72088361 0.71240407\n",
      " 0.70392513 0.69542909 0.68693578 0.67842644 0.66988355 0.66130334\n",
      " 0.65268499 0.64403105 0.63534433 0.6266278 ]\n",
      "0 day output [[0.6178852]]\n",
      "1 day input [0.8962495  0.8619449  0.83805724 0.8176418  0.81283079 0.76463703\n",
      " 0.75417831 0.7765181  0.77388248 0.74999482 0.71640139 0.5851654\n",
      " 0.6181313  0.5423683  0.57776065 0.50279251 0.49634993 0.46330038\n",
      " 0.42079615 0.50467508 0.39264125 0.44229929 0.55847473 0.54504569\n",
      " 0.54454369 0.51513375 0.5848307  0.55696863 0.55445854 0.6620997\n",
      " 0.65042781 0.67368794 0.64791772 0.61503546 0.63026342 0.67707661\n",
      " 0.69364326 0.6882465  0.79387957 0.7999875  0.83855924 0.84922714\n",
      " 0.84788844 0.84688434 0.86803608 0.84250843 0.86360165 0.86368529\n",
      " 0.90198096 0.9474387  0.95987202 0.87902192 0.90503482 0.85441462\n",
      " 0.87403524 0.85843081 0.83178201 0.85253205 0.85884916 0.85073323\n",
      " 0.844458   0.862447   0.88478678 0.87821873 0.92503192 0.9378752\n",
      " 0.94285362 0.97477365 0.97636329 0.90432    0.90199876 0.89197659\n",
      " 0.87909275 0.8654539  0.85194856 0.83894658 0.82637954 0.81456196\n",
      " 0.80347401 0.79300737 0.78305733 0.77352643 0.76432538 0.75537455\n",
      " 0.74660504 0.73795944 0.72939104 0.72088361 0.71240407 0.70392513\n",
      " 0.69542909 0.68693578 0.67842644 0.66988355 0.66130334 0.65268499\n",
      " 0.64403105 0.63534433 0.6266278  0.61788517]\n",
      "1 day output [[0.60911995]]\n",
      "2 day input [0.8619449  0.83805724 0.8176418  0.81283079 0.76463703 0.75417831\n",
      " 0.7765181  0.77388248 0.74999482 0.71640139 0.5851654  0.6181313\n",
      " 0.5423683  0.57776065 0.50279251 0.49634993 0.46330038 0.42079615\n",
      " 0.50467508 0.39264125 0.44229929 0.55847473 0.54504569 0.54454369\n",
      " 0.51513375 0.5848307  0.55696863 0.55445854 0.6620997  0.65042781\n",
      " 0.67368794 0.64791772 0.61503546 0.63026342 0.67707661 0.69364326\n",
      " 0.6882465  0.79387957 0.7999875  0.83855924 0.84922714 0.84788844\n",
      " 0.84688434 0.86803608 0.84250843 0.86360165 0.86368529 0.90198096\n",
      " 0.9474387  0.95987202 0.87902192 0.90503482 0.85441462 0.87403524\n",
      " 0.85843081 0.83178201 0.85253205 0.85884916 0.85073323 0.844458\n",
      " 0.862447   0.88478678 0.87821873 0.92503192 0.9378752  0.94285362\n",
      " 0.97477365 0.97636329 0.90432    0.90199876 0.89197659 0.87909275\n",
      " 0.8654539  0.85194856 0.83894658 0.82637954 0.81456196 0.80347401\n",
      " 0.79300737 0.78305733 0.77352643 0.76432538 0.75537455 0.74660504\n",
      " 0.73795944 0.72939104 0.72088361 0.71240407 0.70392513 0.69542909\n",
      " 0.68693578 0.67842644 0.66988355 0.66130334 0.65268499 0.64403105\n",
      " 0.63534433 0.6266278  0.61788517 0.60911995]\n",
      "2 day output [[0.600336]]\n",
      "3 day input [0.83805724 0.8176418  0.81283079 0.76463703 0.75417831 0.7765181\n",
      " 0.77388248 0.74999482 0.71640139 0.5851654  0.6181313  0.5423683\n",
      " 0.57776065 0.50279251 0.49634993 0.46330038 0.42079615 0.50467508\n",
      " 0.39264125 0.44229929 0.55847473 0.54504569 0.54454369 0.51513375\n",
      " 0.5848307  0.55696863 0.55445854 0.6620997  0.65042781 0.67368794\n",
      " 0.64791772 0.61503546 0.63026342 0.67707661 0.69364326 0.6882465\n",
      " 0.79387957 0.7999875  0.83855924 0.84922714 0.84788844 0.84688434\n",
      " 0.86803608 0.84250843 0.86360165 0.86368529 0.90198096 0.9474387\n",
      " 0.95987202 0.87902192 0.90503482 0.85441462 0.87403524 0.85843081\n",
      " 0.83178201 0.85253205 0.85884916 0.85073323 0.844458   0.862447\n",
      " 0.88478678 0.87821873 0.92503192 0.9378752  0.94285362 0.97477365\n",
      " 0.97636329 0.90432    0.90199876 0.89197659 0.87909275 0.8654539\n",
      " 0.85194856 0.83894658 0.82637954 0.81456196 0.80347401 0.79300737\n",
      " 0.78305733 0.77352643 0.76432538 0.75537455 0.74660504 0.73795944\n",
      " 0.72939104 0.72088361 0.71240407 0.70392513 0.69542909 0.68693578\n",
      " 0.67842644 0.66988355 0.66130334 0.65268499 0.64403105 0.63534433\n",
      " 0.6266278  0.61788517 0.60911995 0.60033602]\n",
      "3 day output [[0.59153724]]\n",
      "4 day input [0.8176418  0.81283079 0.76463703 0.75417831 0.7765181  0.77388248\n",
      " 0.74999482 0.71640139 0.5851654  0.6181313  0.5423683  0.57776065\n",
      " 0.50279251 0.49634993 0.46330038 0.42079615 0.50467508 0.39264125\n",
      " 0.44229929 0.55847473 0.54504569 0.54454369 0.51513375 0.5848307\n",
      " 0.55696863 0.55445854 0.6620997  0.65042781 0.67368794 0.64791772\n",
      " 0.61503546 0.63026342 0.67707661 0.69364326 0.6882465  0.79387957\n",
      " 0.7999875  0.83855924 0.84922714 0.84788844 0.84688434 0.86803608\n",
      " 0.84250843 0.86360165 0.86368529 0.90198096 0.9474387  0.95987202\n",
      " 0.87902192 0.90503482 0.85441462 0.87403524 0.85843081 0.83178201\n",
      " 0.85253205 0.85884916 0.85073323 0.844458   0.862447   0.88478678\n",
      " 0.87821873 0.92503192 0.9378752  0.94285362 0.97477365 0.97636329\n",
      " 0.90432    0.90199876 0.89197659 0.87909275 0.8654539  0.85194856\n",
      " 0.83894658 0.82637954 0.81456196 0.80347401 0.79300737 0.78305733\n",
      " 0.77352643 0.76432538 0.75537455 0.74660504 0.73795944 0.72939104\n",
      " 0.72088361 0.71240407 0.70392513 0.69542909 0.68693578 0.67842644\n",
      " 0.66988355 0.66130334 0.65268499 0.64403105 0.63534433 0.6266278\n",
      " 0.61788517 0.60911995 0.60033602 0.59153724]\n",
      "4 day output [[0.5827266]]\n",
      "5 day input [0.81283079 0.76463703 0.75417831 0.7765181  0.77388248 0.74999482\n",
      " 0.71640139 0.5851654  0.6181313  0.5423683  0.57776065 0.50279251\n",
      " 0.49634993 0.46330038 0.42079615 0.50467508 0.39264125 0.44229929\n",
      " 0.55847473 0.54504569 0.54454369 0.51513375 0.5848307  0.55696863\n",
      " 0.55445854 0.6620997  0.65042781 0.67368794 0.64791772 0.61503546\n",
      " 0.63026342 0.67707661 0.69364326 0.6882465  0.79387957 0.7999875\n",
      " 0.83855924 0.84922714 0.84788844 0.84688434 0.86803608 0.84250843\n",
      " 0.86360165 0.86368529 0.90198096 0.9474387  0.95987202 0.87902192\n",
      " 0.90503482 0.85441462 0.87403524 0.85843081 0.83178201 0.85253205\n",
      " 0.85884916 0.85073323 0.844458   0.862447   0.88478678 0.87821873\n",
      " 0.92503192 0.9378752  0.94285362 0.97477365 0.97636329 0.90432\n",
      " 0.90199876 0.89197659 0.87909275 0.8654539  0.85194856 0.83894658\n",
      " 0.82637954 0.81456196 0.80347401 0.79300737 0.78305733 0.77352643\n",
      " 0.76432538 0.75537455 0.74660504 0.73795944 0.72939104 0.72088361\n",
      " 0.71240407 0.70392513 0.69542909 0.68693578 0.67842644 0.66988355\n",
      " 0.66130334 0.65268499 0.64403105 0.63534433 0.6266278  0.61788517\n",
      " 0.60911995 0.60033602 0.59153724 0.5827266 ]\n",
      "5 day output [[0.5739058]]\n",
      "6 day input [0.76463703 0.75417831 0.7765181  0.77388248 0.74999482 0.71640139\n",
      " 0.5851654  0.6181313  0.5423683  0.57776065 0.50279251 0.49634993\n",
      " 0.46330038 0.42079615 0.50467508 0.39264125 0.44229929 0.55847473\n",
      " 0.54504569 0.54454369 0.51513375 0.5848307  0.55696863 0.55445854\n",
      " 0.6620997  0.65042781 0.67368794 0.64791772 0.61503546 0.63026342\n",
      " 0.67707661 0.69364326 0.6882465  0.79387957 0.7999875  0.83855924\n",
      " 0.84922714 0.84788844 0.84688434 0.86803608 0.84250843 0.86360165\n",
      " 0.86368529 0.90198096 0.9474387  0.95987202 0.87902192 0.90503482\n",
      " 0.85441462 0.87403524 0.85843081 0.83178201 0.85253205 0.85884916\n",
      " 0.85073323 0.844458   0.862447   0.88478678 0.87821873 0.92503192\n",
      " 0.9378752  0.94285362 0.97477365 0.97636329 0.90432    0.90199876\n",
      " 0.89197659 0.87909275 0.8654539  0.85194856 0.83894658 0.82637954\n",
      " 0.81456196 0.80347401 0.79300737 0.78305733 0.77352643 0.76432538\n",
      " 0.75537455 0.74660504 0.73795944 0.72939104 0.72088361 0.71240407\n",
      " 0.70392513 0.69542909 0.68693578 0.67842644 0.66988355 0.66130334\n",
      " 0.65268499 0.64403105 0.63534433 0.6266278  0.61788517 0.60911995\n",
      " 0.60033602 0.59153724 0.5827266  0.57390583]\n",
      "6 day output [[0.5650744]]\n",
      "7 day input [0.75417831 0.7765181  0.77388248 0.74999482 0.71640139 0.5851654\n",
      " 0.6181313  0.5423683  0.57776065 0.50279251 0.49634993 0.46330038\n",
      " 0.42079615 0.50467508 0.39264125 0.44229929 0.55847473 0.54504569\n",
      " 0.54454369 0.51513375 0.5848307  0.55696863 0.55445854 0.6620997\n",
      " 0.65042781 0.67368794 0.64791772 0.61503546 0.63026342 0.67707661\n",
      " 0.69364326 0.6882465  0.79387957 0.7999875  0.83855924 0.84922714\n",
      " 0.84788844 0.84688434 0.86803608 0.84250843 0.86360165 0.86368529\n",
      " 0.90198096 0.9474387  0.95987202 0.87902192 0.90503482 0.85441462\n",
      " 0.87403524 0.85843081 0.83178201 0.85253205 0.85884916 0.85073323\n",
      " 0.844458   0.862447   0.88478678 0.87821873 0.92503192 0.9378752\n",
      " 0.94285362 0.97477365 0.97636329 0.90432    0.90199876 0.89197659\n",
      " 0.87909275 0.8654539  0.85194856 0.83894658 0.82637954 0.81456196\n",
      " 0.80347401 0.79300737 0.78305733 0.77352643 0.76432538 0.75537455\n",
      " 0.74660504 0.73795944 0.72939104 0.72088361 0.71240407 0.70392513\n",
      " 0.69542909 0.68693578 0.67842644 0.66988355 0.66130334 0.65268499\n",
      " 0.64403105 0.63534433 0.6266278  0.61788517 0.60911995 0.60033602\n",
      " 0.59153724 0.5827266  0.57390583 0.56507438]\n"
     ]
    },
    {
     "name": "stdout",
     "output_type": "stream",
     "text": [
      "7 day output [[0.55622864]]\n",
      "8 day input [0.7765181  0.77388248 0.74999482 0.71640139 0.5851654  0.6181313\n",
      " 0.5423683  0.57776065 0.50279251 0.49634993 0.46330038 0.42079615\n",
      " 0.50467508 0.39264125 0.44229929 0.55847473 0.54504569 0.54454369\n",
      " 0.51513375 0.5848307  0.55696863 0.55445854 0.6620997  0.65042781\n",
      " 0.67368794 0.64791772 0.61503546 0.63026342 0.67707661 0.69364326\n",
      " 0.6882465  0.79387957 0.7999875  0.83855924 0.84922714 0.84788844\n",
      " 0.84688434 0.86803608 0.84250843 0.86360165 0.86368529 0.90198096\n",
      " 0.9474387  0.95987202 0.87902192 0.90503482 0.85441462 0.87403524\n",
      " 0.85843081 0.83178201 0.85253205 0.85884916 0.85073323 0.844458\n",
      " 0.862447   0.88478678 0.87821873 0.92503192 0.9378752  0.94285362\n",
      " 0.97477365 0.97636329 0.90432    0.90199876 0.89197659 0.87909275\n",
      " 0.8654539  0.85194856 0.83894658 0.82637954 0.81456196 0.80347401\n",
      " 0.79300737 0.78305733 0.77352643 0.76432538 0.75537455 0.74660504\n",
      " 0.73795944 0.72939104 0.72088361 0.71240407 0.70392513 0.69542909\n",
      " 0.68693578 0.67842644 0.66988355 0.66130334 0.65268499 0.64403105\n",
      " 0.63534433 0.6266278  0.61788517 0.60911995 0.60033602 0.59153724\n",
      " 0.5827266  0.57390583 0.56507438 0.55622864]\n",
      "8 day output [[0.5473611]]\n",
      "9 day input [0.77388248 0.74999482 0.71640139 0.5851654  0.6181313  0.5423683\n",
      " 0.57776065 0.50279251 0.49634993 0.46330038 0.42079615 0.50467508\n",
      " 0.39264125 0.44229929 0.55847473 0.54504569 0.54454369 0.51513375\n",
      " 0.5848307  0.55696863 0.55445854 0.6620997  0.65042781 0.67368794\n",
      " 0.64791772 0.61503546 0.63026342 0.67707661 0.69364326 0.6882465\n",
      " 0.79387957 0.7999875  0.83855924 0.84922714 0.84788844 0.84688434\n",
      " 0.86803608 0.84250843 0.86360165 0.86368529 0.90198096 0.9474387\n",
      " 0.95987202 0.87902192 0.90503482 0.85441462 0.87403524 0.85843081\n",
      " 0.83178201 0.85253205 0.85884916 0.85073323 0.844458   0.862447\n",
      " 0.88478678 0.87821873 0.92503192 0.9378752  0.94285362 0.97477365\n",
      " 0.97636329 0.90432    0.90199876 0.89197659 0.87909275 0.8654539\n",
      " 0.85194856 0.83894658 0.82637954 0.81456196 0.80347401 0.79300737\n",
      " 0.78305733 0.77352643 0.76432538 0.75537455 0.74660504 0.73795944\n",
      " 0.72939104 0.72088361 0.71240407 0.70392513 0.69542909 0.68693578\n",
      " 0.67842644 0.66988355 0.66130334 0.65268499 0.64403105 0.63534433\n",
      " 0.6266278  0.61788517 0.60911995 0.60033602 0.59153724 0.5827266\n",
      " 0.57390583 0.56507438 0.55622864 0.54736108]\n",
      "9 day output [[0.5384595]]\n",
      "10 day input [0.74999482 0.71640139 0.5851654  0.6181313  0.5423683  0.57776065\n",
      " 0.50279251 0.49634993 0.46330038 0.42079615 0.50467508 0.39264125\n",
      " 0.44229929 0.55847473 0.54504569 0.54454369 0.51513375 0.5848307\n",
      " 0.55696863 0.55445854 0.6620997  0.65042781 0.67368794 0.64791772\n",
      " 0.61503546 0.63026342 0.67707661 0.69364326 0.6882465  0.79387957\n",
      " 0.7999875  0.83855924 0.84922714 0.84788844 0.84688434 0.86803608\n",
      " 0.84250843 0.86360165 0.86368529 0.90198096 0.9474387  0.95987202\n",
      " 0.87902192 0.90503482 0.85441462 0.87403524 0.85843081 0.83178201\n",
      " 0.85253205 0.85884916 0.85073323 0.844458   0.862447   0.88478678\n",
      " 0.87821873 0.92503192 0.9378752  0.94285362 0.97477365 0.97636329\n",
      " 0.90432    0.90199876 0.89197659 0.87909275 0.8654539  0.85194856\n",
      " 0.83894658 0.82637954 0.81456196 0.80347401 0.79300737 0.78305733\n",
      " 0.77352643 0.76432538 0.75537455 0.74660504 0.73795944 0.72939104\n",
      " 0.72088361 0.71240407 0.70392513 0.69542909 0.68693578 0.67842644\n",
      " 0.66988355 0.66130334 0.65268499 0.64403105 0.63534433 0.6266278\n",
      " 0.61788517 0.60911995 0.60033602 0.59153724 0.5827266  0.57390583\n",
      " 0.56507438 0.55622864 0.54736108 0.53845948]\n",
      "10 day output [[0.5295066]]\n",
      "11 day input [0.71640139 0.5851654  0.6181313  0.5423683  0.57776065 0.50279251\n",
      " 0.49634993 0.46330038 0.42079615 0.50467508 0.39264125 0.44229929\n",
      " 0.55847473 0.54504569 0.54454369 0.51513375 0.5848307  0.55696863\n",
      " 0.55445854 0.6620997  0.65042781 0.67368794 0.64791772 0.61503546\n",
      " 0.63026342 0.67707661 0.69364326 0.6882465  0.79387957 0.7999875\n",
      " 0.83855924 0.84922714 0.84788844 0.84688434 0.86803608 0.84250843\n",
      " 0.86360165 0.86368529 0.90198096 0.9474387  0.95987202 0.87902192\n",
      " 0.90503482 0.85441462 0.87403524 0.85843081 0.83178201 0.85253205\n",
      " 0.85884916 0.85073323 0.844458   0.862447   0.88478678 0.87821873\n",
      " 0.92503192 0.9378752  0.94285362 0.97477365 0.97636329 0.90432\n",
      " 0.90199876 0.89197659 0.87909275 0.8654539  0.85194856 0.83894658\n",
      " 0.82637954 0.81456196 0.80347401 0.79300737 0.78305733 0.77352643\n",
      " 0.76432538 0.75537455 0.74660504 0.73795944 0.72939104 0.72088361\n",
      " 0.71240407 0.70392513 0.69542909 0.68693578 0.67842644 0.66988355\n",
      " 0.66130334 0.65268499 0.64403105 0.63534433 0.6266278  0.61788517\n",
      " 0.60911995 0.60033602 0.59153724 0.5827266  0.57390583 0.56507438\n",
      " 0.55622864 0.54736108 0.53845948 0.52950662]\n",
      "11 day output [[0.5204808]]\n",
      "12 day input [0.5851654  0.6181313  0.5423683  0.57776065 0.50279251 0.49634993\n",
      " 0.46330038 0.42079615 0.50467508 0.39264125 0.44229929 0.55847473\n",
      " 0.54504569 0.54454369 0.51513375 0.5848307  0.55696863 0.55445854\n",
      " 0.6620997  0.65042781 0.67368794 0.64791772 0.61503546 0.63026342\n",
      " 0.67707661 0.69364326 0.6882465  0.79387957 0.7999875  0.83855924\n",
      " 0.84922714 0.84788844 0.84688434 0.86803608 0.84250843 0.86360165\n",
      " 0.86368529 0.90198096 0.9474387  0.95987202 0.87902192 0.90503482\n",
      " 0.85441462 0.87403524 0.85843081 0.83178201 0.85253205 0.85884916\n",
      " 0.85073323 0.844458   0.862447   0.88478678 0.87821873 0.92503192\n",
      " 0.9378752  0.94285362 0.97477365 0.97636329 0.90432    0.90199876\n",
      " 0.89197659 0.87909275 0.8654539  0.85194856 0.83894658 0.82637954\n",
      " 0.81456196 0.80347401 0.79300737 0.78305733 0.77352643 0.76432538\n",
      " 0.75537455 0.74660504 0.73795944 0.72939104 0.72088361 0.71240407\n",
      " 0.70392513 0.69542909 0.68693578 0.67842644 0.66988355 0.66130334\n",
      " 0.65268499 0.64403105 0.63534433 0.6266278  0.61788517 0.60911995\n",
      " 0.60033602 0.59153724 0.5827266  0.57390583 0.56507438 0.55622864\n",
      " 0.54736108 0.53845948 0.52950662 0.52048081]\n",
      "12 day output [[0.5113588]]\n",
      "13 day input [0.6181313  0.5423683  0.57776065 0.50279251 0.49634993 0.46330038\n",
      " 0.42079615 0.50467508 0.39264125 0.44229929 0.55847473 0.54504569\n",
      " 0.54454369 0.51513375 0.5848307  0.55696863 0.55445854 0.6620997\n",
      " 0.65042781 0.67368794 0.64791772 0.61503546 0.63026342 0.67707661\n",
      " 0.69364326 0.6882465  0.79387957 0.7999875  0.83855924 0.84922714\n",
      " 0.84788844 0.84688434 0.86803608 0.84250843 0.86360165 0.86368529\n",
      " 0.90198096 0.9474387  0.95987202 0.87902192 0.90503482 0.85441462\n",
      " 0.87403524 0.85843081 0.83178201 0.85253205 0.85884916 0.85073323\n",
      " 0.844458   0.862447   0.88478678 0.87821873 0.92503192 0.9378752\n",
      " 0.94285362 0.97477365 0.97636329 0.90432    0.90199876 0.89197659\n",
      " 0.87909275 0.8654539  0.85194856 0.83894658 0.82637954 0.81456196\n",
      " 0.80347401 0.79300737 0.78305733 0.77352643 0.76432538 0.75537455\n",
      " 0.74660504 0.73795944 0.72939104 0.72088361 0.71240407 0.70392513\n",
      " 0.69542909 0.68693578 0.67842644 0.66988355 0.66130334 0.65268499\n",
      " 0.64403105 0.63534433 0.6266278  0.61788517 0.60911995 0.60033602\n",
      " 0.59153724 0.5827266  0.57390583 0.56507438 0.55622864 0.54736108\n",
      " 0.53845948 0.52950662 0.52048081 0.5113588 ]\n",
      "13 day output [[0.5021199]]\n",
      "14 day input [0.5423683  0.57776065 0.50279251 0.49634993 0.46330038 0.42079615\n",
      " 0.50467508 0.39264125 0.44229929 0.55847473 0.54504569 0.54454369\n",
      " 0.51513375 0.5848307  0.55696863 0.55445854 0.6620997  0.65042781\n",
      " 0.67368794 0.64791772 0.61503546 0.63026342 0.67707661 0.69364326\n",
      " 0.6882465  0.79387957 0.7999875  0.83855924 0.84922714 0.84788844\n",
      " 0.84688434 0.86803608 0.84250843 0.86360165 0.86368529 0.90198096\n",
      " 0.9474387  0.95987202 0.87902192 0.90503482 0.85441462 0.87403524\n",
      " 0.85843081 0.83178201 0.85253205 0.85884916 0.85073323 0.844458\n",
      " 0.862447   0.88478678 0.87821873 0.92503192 0.9378752  0.94285362\n",
      " 0.97477365 0.97636329 0.90432    0.90199876 0.89197659 0.87909275\n",
      " 0.8654539  0.85194856 0.83894658 0.82637954 0.81456196 0.80347401\n",
      " 0.79300737 0.78305733 0.77352643 0.76432538 0.75537455 0.74660504\n",
      " 0.73795944 0.72939104 0.72088361 0.71240407 0.70392513 0.69542909\n",
      " 0.68693578 0.67842644 0.66988355 0.66130334 0.65268499 0.64403105\n",
      " 0.63534433 0.6266278  0.61788517 0.60911995 0.60033602 0.59153724\n",
      " 0.5827266  0.57390583 0.56507438 0.55622864 0.54736108 0.53845948\n",
      " 0.52950662 0.52048081 0.5113588  0.5021199 ]\n",
      "14 day output [[0.49275342]]\n",
      "15 day input [0.57776065 0.50279251 0.49634993 0.46330038 0.42079615 0.50467508\n",
      " 0.39264125 0.44229929 0.55847473 0.54504569 0.54454369 0.51513375\n",
      " 0.5848307  0.55696863 0.55445854 0.6620997  0.65042781 0.67368794\n",
      " 0.64791772 0.61503546 0.63026342 0.67707661 0.69364326 0.6882465\n",
      " 0.79387957 0.7999875  0.83855924 0.84922714 0.84788844 0.84688434\n",
      " 0.86803608 0.84250843 0.86360165 0.86368529 0.90198096 0.9474387\n",
      " 0.95987202 0.87902192 0.90503482 0.85441462 0.87403524 0.85843081\n",
      " 0.83178201 0.85253205 0.85884916 0.85073323 0.844458   0.862447\n",
      " 0.88478678 0.87821873 0.92503192 0.9378752  0.94285362 0.97477365\n",
      " 0.97636329 0.90432    0.90199876 0.89197659 0.87909275 0.8654539\n",
      " 0.85194856 0.83894658 0.82637954 0.81456196 0.80347401 0.79300737\n",
      " 0.78305733 0.77352643 0.76432538 0.75537455 0.74660504 0.73795944\n",
      " 0.72939104 0.72088361 0.71240407 0.70392513 0.69542909 0.68693578\n",
      " 0.67842644 0.66988355 0.66130334 0.65268499 0.64403105 0.63534433\n",
      " 0.6266278  0.61788517 0.60911995 0.60033602 0.59153724 0.5827266\n",
      " 0.57390583 0.56507438 0.55622864 0.54736108 0.53845948 0.52950662\n",
      " 0.52048081 0.5113588  0.5021199  0.49275342]\n"
     ]
    },
    {
     "name": "stdout",
     "output_type": "stream",
     "text": [
      "15 day output [[0.4832685]]\n",
      "16 day input [0.50279251 0.49634993 0.46330038 0.42079615 0.50467508 0.39264125\n",
      " 0.44229929 0.55847473 0.54504569 0.54454369 0.51513375 0.5848307\n",
      " 0.55696863 0.55445854 0.6620997  0.65042781 0.67368794 0.64791772\n",
      " 0.61503546 0.63026342 0.67707661 0.69364326 0.6882465  0.79387957\n",
      " 0.7999875  0.83855924 0.84922714 0.84788844 0.84688434 0.86803608\n",
      " 0.84250843 0.86360165 0.86368529 0.90198096 0.9474387  0.95987202\n",
      " 0.87902192 0.90503482 0.85441462 0.87403524 0.85843081 0.83178201\n",
      " 0.85253205 0.85884916 0.85073323 0.844458   0.862447   0.88478678\n",
      " 0.87821873 0.92503192 0.9378752  0.94285362 0.97477365 0.97636329\n",
      " 0.90432    0.90199876 0.89197659 0.87909275 0.8654539  0.85194856\n",
      " 0.83894658 0.82637954 0.81456196 0.80347401 0.79300737 0.78305733\n",
      " 0.77352643 0.76432538 0.75537455 0.74660504 0.73795944 0.72939104\n",
      " 0.72088361 0.71240407 0.70392513 0.69542909 0.68693578 0.67842644\n",
      " 0.66988355 0.66130334 0.65268499 0.64403105 0.63534433 0.6266278\n",
      " 0.61788517 0.60911995 0.60033602 0.59153724 0.5827266  0.57390583\n",
      " 0.56507438 0.55622864 0.54736108 0.53845948 0.52950662 0.52048081\n",
      " 0.5113588  0.5021199  0.49275342 0.4832685 ]\n",
      "16 day output [[0.4737052]]\n",
      "17 day input [0.49634993 0.46330038 0.42079615 0.50467508 0.39264125 0.44229929\n",
      " 0.55847473 0.54504569 0.54454369 0.51513375 0.5848307  0.55696863\n",
      " 0.55445854 0.6620997  0.65042781 0.67368794 0.64791772 0.61503546\n",
      " 0.63026342 0.67707661 0.69364326 0.6882465  0.79387957 0.7999875\n",
      " 0.83855924 0.84922714 0.84788844 0.84688434 0.86803608 0.84250843\n",
      " 0.86360165 0.86368529 0.90198096 0.9474387  0.95987202 0.87902192\n",
      " 0.90503482 0.85441462 0.87403524 0.85843081 0.83178201 0.85253205\n",
      " 0.85884916 0.85073323 0.844458   0.862447   0.88478678 0.87821873\n",
      " 0.92503192 0.9378752  0.94285362 0.97477365 0.97636329 0.90432\n",
      " 0.90199876 0.89197659 0.87909275 0.8654539  0.85194856 0.83894658\n",
      " 0.82637954 0.81456196 0.80347401 0.79300737 0.78305733 0.77352643\n",
      " 0.76432538 0.75537455 0.74660504 0.73795944 0.72939104 0.72088361\n",
      " 0.71240407 0.70392513 0.69542909 0.68693578 0.67842644 0.66988355\n",
      " 0.66130334 0.65268499 0.64403105 0.63534433 0.6266278  0.61788517\n",
      " 0.60911995 0.60033602 0.59153724 0.5827266  0.57390583 0.56507438\n",
      " 0.55622864 0.54736108 0.53845948 0.52950662 0.52048081 0.5113588\n",
      " 0.5021199  0.49275342 0.4832685  0.4737052 ]\n",
      "17 day output [[0.4641467]]\n",
      "18 day input [0.46330038 0.42079615 0.50467508 0.39264125 0.44229929 0.55847473\n",
      " 0.54504569 0.54454369 0.51513375 0.5848307  0.55696863 0.55445854\n",
      " 0.6620997  0.65042781 0.67368794 0.64791772 0.61503546 0.63026342\n",
      " 0.67707661 0.69364326 0.6882465  0.79387957 0.7999875  0.83855924\n",
      " 0.84922714 0.84788844 0.84688434 0.86803608 0.84250843 0.86360165\n",
      " 0.86368529 0.90198096 0.9474387  0.95987202 0.87902192 0.90503482\n",
      " 0.85441462 0.87403524 0.85843081 0.83178201 0.85253205 0.85884916\n",
      " 0.85073323 0.844458   0.862447   0.88478678 0.87821873 0.92503192\n",
      " 0.9378752  0.94285362 0.97477365 0.97636329 0.90432    0.90199876\n",
      " 0.89197659 0.87909275 0.8654539  0.85194856 0.83894658 0.82637954\n",
      " 0.81456196 0.80347401 0.79300737 0.78305733 0.77352643 0.76432538\n",
      " 0.75537455 0.74660504 0.73795944 0.72939104 0.72088361 0.71240407\n",
      " 0.70392513 0.69542909 0.68693578 0.67842644 0.66988355 0.66130334\n",
      " 0.65268499 0.64403105 0.63534433 0.6266278  0.61788517 0.60911995\n",
      " 0.60033602 0.59153724 0.5827266  0.57390583 0.56507438 0.55622864\n",
      " 0.54736108 0.53845948 0.52950662 0.52048081 0.5113588  0.5021199\n",
      " 0.49275342 0.4832685  0.4737052  0.4641467 ]\n",
      "18 day output [[0.45472535]]\n",
      "19 day input [0.42079615 0.50467508 0.39264125 0.44229929 0.55847473 0.54504569\n",
      " 0.54454369 0.51513375 0.5848307  0.55696863 0.55445854 0.6620997\n",
      " 0.65042781 0.67368794 0.64791772 0.61503546 0.63026342 0.67707661\n",
      " 0.69364326 0.6882465  0.79387957 0.7999875  0.83855924 0.84922714\n",
      " 0.84788844 0.84688434 0.86803608 0.84250843 0.86360165 0.86368529\n",
      " 0.90198096 0.9474387  0.95987202 0.87902192 0.90503482 0.85441462\n",
      " 0.87403524 0.85843081 0.83178201 0.85253205 0.85884916 0.85073323\n",
      " 0.844458   0.862447   0.88478678 0.87821873 0.92503192 0.9378752\n",
      " 0.94285362 0.97477365 0.97636329 0.90432    0.90199876 0.89197659\n",
      " 0.87909275 0.8654539  0.85194856 0.83894658 0.82637954 0.81456196\n",
      " 0.80347401 0.79300737 0.78305733 0.77352643 0.76432538 0.75537455\n",
      " 0.74660504 0.73795944 0.72939104 0.72088361 0.71240407 0.70392513\n",
      " 0.69542909 0.68693578 0.67842644 0.66988355 0.66130334 0.65268499\n",
      " 0.64403105 0.63534433 0.6266278  0.61788517 0.60911995 0.60033602\n",
      " 0.59153724 0.5827266  0.57390583 0.56507438 0.55622864 0.54736108\n",
      " 0.53845948 0.52950662 0.52048081 0.5113588  0.5021199  0.49275342\n",
      " 0.4832685  0.4737052  0.4641467  0.45472535]\n",
      "19 day output [[0.44562393]]\n",
      "20 day input [0.50467508 0.39264125 0.44229929 0.55847473 0.54504569 0.54454369\n",
      " 0.51513375 0.5848307  0.55696863 0.55445854 0.6620997  0.65042781\n",
      " 0.67368794 0.64791772 0.61503546 0.63026342 0.67707661 0.69364326\n",
      " 0.6882465  0.79387957 0.7999875  0.83855924 0.84922714 0.84788844\n",
      " 0.84688434 0.86803608 0.84250843 0.86360165 0.86368529 0.90198096\n",
      " 0.9474387  0.95987202 0.87902192 0.90503482 0.85441462 0.87403524\n",
      " 0.85843081 0.83178201 0.85253205 0.85884916 0.85073323 0.844458\n",
      " 0.862447   0.88478678 0.87821873 0.92503192 0.9378752  0.94285362\n",
      " 0.97477365 0.97636329 0.90432    0.90199876 0.89197659 0.87909275\n",
      " 0.8654539  0.85194856 0.83894658 0.82637954 0.81456196 0.80347401\n",
      " 0.79300737 0.78305733 0.77352643 0.76432538 0.75537455 0.74660504\n",
      " 0.73795944 0.72939104 0.72088361 0.71240407 0.70392513 0.69542909\n",
      " 0.68693578 0.67842644 0.66988355 0.66130334 0.65268499 0.64403105\n",
      " 0.63534433 0.6266278  0.61788517 0.60911995 0.60033602 0.59153724\n",
      " 0.5827266  0.57390583 0.56507438 0.55622864 0.54736108 0.53845948\n",
      " 0.52950662 0.52048081 0.5113588  0.5021199  0.49275342 0.4832685\n",
      " 0.4737052  0.4641467  0.45472535 0.44562393]\n",
      "20 day output [[0.4370648]]\n",
      "21 day input [0.39264125 0.44229929 0.55847473 0.54504569 0.54454369 0.51513375\n",
      " 0.5848307  0.55696863 0.55445854 0.6620997  0.65042781 0.67368794\n",
      " 0.64791772 0.61503546 0.63026342 0.67707661 0.69364326 0.6882465\n",
      " 0.79387957 0.7999875  0.83855924 0.84922714 0.84788844 0.84688434\n",
      " 0.86803608 0.84250843 0.86360165 0.86368529 0.90198096 0.9474387\n",
      " 0.95987202 0.87902192 0.90503482 0.85441462 0.87403524 0.85843081\n",
      " 0.83178201 0.85253205 0.85884916 0.85073323 0.844458   0.862447\n",
      " 0.88478678 0.87821873 0.92503192 0.9378752  0.94285362 0.97477365\n",
      " 0.97636329 0.90432    0.90199876 0.89197659 0.87909275 0.8654539\n",
      " 0.85194856 0.83894658 0.82637954 0.81456196 0.80347401 0.79300737\n",
      " 0.78305733 0.77352643 0.76432538 0.75537455 0.74660504 0.73795944\n",
      " 0.72939104 0.72088361 0.71240407 0.70392513 0.69542909 0.68693578\n",
      " 0.67842644 0.66988355 0.66130334 0.65268499 0.64403105 0.63534433\n",
      " 0.6266278  0.61788517 0.60911995 0.60033602 0.59153724 0.5827266\n",
      " 0.57390583 0.56507438 0.55622864 0.54736108 0.53845948 0.52950662\n",
      " 0.52048081 0.5113588  0.5021199  0.49275342 0.4832685  0.4737052\n",
      " 0.4641467  0.45472535 0.44562393 0.4370648 ]\n",
      "21 day output [[0.42927727]]\n",
      "22 day input [0.44229929 0.55847473 0.54504569 0.54454369 0.51513375 0.5848307\n",
      " 0.55696863 0.55445854 0.6620997  0.65042781 0.67368794 0.64791772\n",
      " 0.61503546 0.63026342 0.67707661 0.69364326 0.6882465  0.79387957\n",
      " 0.7999875  0.83855924 0.84922714 0.84788844 0.84688434 0.86803608\n",
      " 0.84250843 0.86360165 0.86368529 0.90198096 0.9474387  0.95987202\n",
      " 0.87902192 0.90503482 0.85441462 0.87403524 0.85843081 0.83178201\n",
      " 0.85253205 0.85884916 0.85073323 0.844458   0.862447   0.88478678\n",
      " 0.87821873 0.92503192 0.9378752  0.94285362 0.97477365 0.97636329\n",
      " 0.90432    0.90199876 0.89197659 0.87909275 0.8654539  0.85194856\n",
      " 0.83894658 0.82637954 0.81456196 0.80347401 0.79300737 0.78305733\n",
      " 0.77352643 0.76432538 0.75537455 0.74660504 0.73795944 0.72939104\n",
      " 0.72088361 0.71240407 0.70392513 0.69542909 0.68693578 0.67842644\n",
      " 0.66988355 0.66130334 0.65268499 0.64403105 0.63534433 0.6266278\n",
      " 0.61788517 0.60911995 0.60033602 0.59153724 0.5827266  0.57390583\n",
      " 0.56507438 0.55622864 0.54736108 0.53845948 0.52950662 0.52048081\n",
      " 0.5113588  0.5021199  0.49275342 0.4832685  0.4737052  0.4641467\n",
      " 0.45472535 0.44562393 0.4370648  0.42927727]\n",
      "22 day output [[0.42249048]]\n",
      "23 day input [0.55847473 0.54504569 0.54454369 0.51513375 0.5848307  0.55696863\n",
      " 0.55445854 0.6620997  0.65042781 0.67368794 0.64791772 0.61503546\n",
      " 0.63026342 0.67707661 0.69364326 0.6882465  0.79387957 0.7999875\n",
      " 0.83855924 0.84922714 0.84788844 0.84688434 0.86803608 0.84250843\n",
      " 0.86360165 0.86368529 0.90198096 0.9474387  0.95987202 0.87902192\n",
      " 0.90503482 0.85441462 0.87403524 0.85843081 0.83178201 0.85253205\n",
      " 0.85884916 0.85073323 0.844458   0.862447   0.88478678 0.87821873\n",
      " 0.92503192 0.9378752  0.94285362 0.97477365 0.97636329 0.90432\n",
      " 0.90199876 0.89197659 0.87909275 0.8654539  0.85194856 0.83894658\n",
      " 0.82637954 0.81456196 0.80347401 0.79300737 0.78305733 0.77352643\n",
      " 0.76432538 0.75537455 0.74660504 0.73795944 0.72939104 0.72088361\n",
      " 0.71240407 0.70392513 0.69542909 0.68693578 0.67842644 0.66988355\n",
      " 0.66130334 0.65268499 0.64403105 0.63534433 0.6266278  0.61788517\n",
      " 0.60911995 0.60033602 0.59153724 0.5827266  0.57390583 0.56507438\n",
      " 0.55622864 0.54736108 0.53845948 0.52950662 0.52048081 0.5113588\n",
      " 0.5021199  0.49275342 0.4832685  0.4737052  0.4641467  0.45472535\n",
      " 0.44562393 0.4370648  0.42927727 0.42249048]\n",
      "23 day output [[0.4168635]]\n",
      "24 day input [0.54504569 0.54454369 0.51513375 0.5848307  0.55696863 0.55445854\n",
      " 0.6620997  0.65042781 0.67368794 0.64791772 0.61503546 0.63026342\n",
      " 0.67707661 0.69364326 0.6882465  0.79387957 0.7999875  0.83855924\n",
      " 0.84922714 0.84788844 0.84688434 0.86803608 0.84250843 0.86360165\n",
      " 0.86368529 0.90198096 0.9474387  0.95987202 0.87902192 0.90503482\n",
      " 0.85441462 0.87403524 0.85843081 0.83178201 0.85253205 0.85884916\n",
      " 0.85073323 0.844458   0.862447   0.88478678 0.87821873 0.92503192\n",
      " 0.9378752  0.94285362 0.97477365 0.97636329 0.90432    0.90199876\n",
      " 0.89197659 0.87909275 0.8654539  0.85194856 0.83894658 0.82637954\n",
      " 0.81456196 0.80347401 0.79300737 0.78305733 0.77352643 0.76432538\n",
      " 0.75537455 0.74660504 0.73795944 0.72939104 0.72088361 0.71240407\n",
      " 0.70392513 0.69542909 0.68693578 0.67842644 0.66988355 0.66130334\n",
      " 0.65268499 0.64403105 0.63534433 0.6266278  0.61788517 0.60911995\n",
      " 0.60033602 0.59153724 0.5827266  0.57390583 0.56507438 0.55622864\n",
      " 0.54736108 0.53845948 0.52950662 0.52048081 0.5113588  0.5021199\n",
      " 0.49275342 0.4832685  0.4737052  0.4641467  0.45472535 0.44562393\n",
      " 0.4370648  0.42927727 0.42249048 0.4168635 ]\n",
      "24 day output [[0.41248065]]\n",
      "25 day input [0.54454369 0.51513375 0.5848307  0.55696863 0.55445854 0.6620997\n",
      " 0.65042781 0.67368794 0.64791772 0.61503546 0.63026342 0.67707661\n",
      " 0.69364326 0.6882465  0.79387957 0.7999875  0.83855924 0.84922714\n",
      " 0.84788844 0.84688434 0.86803608 0.84250843 0.86360165 0.86368529\n",
      " 0.90198096 0.9474387  0.95987202 0.87902192 0.90503482 0.85441462\n",
      " 0.87403524 0.85843081 0.83178201 0.85253205 0.85884916 0.85073323\n",
      " 0.844458   0.862447   0.88478678 0.87821873 0.92503192 0.9378752\n",
      " 0.94285362 0.97477365 0.97636329 0.90432    0.90199876 0.89197659\n",
      " 0.87909275 0.8654539  0.85194856 0.83894658 0.82637954 0.81456196\n",
      " 0.80347401 0.79300737 0.78305733 0.77352643 0.76432538 0.75537455\n",
      " 0.74660504 0.73795944 0.72939104 0.72088361 0.71240407 0.70392513\n",
      " 0.69542909 0.68693578 0.67842644 0.66988355 0.66130334 0.65268499\n",
      " 0.64403105 0.63534433 0.6266278  0.61788517 0.60911995 0.60033602\n",
      " 0.59153724 0.5827266  0.57390583 0.56507438 0.55622864 0.54736108\n",
      " 0.53845948 0.52950662 0.52048081 0.5113588  0.5021199  0.49275342\n",
      " 0.4832685  0.4737052  0.4641467  0.45472535 0.44562393 0.4370648\n",
      " 0.42927727 0.42249048 0.4168635  0.41248065]\n",
      "25 day output [[0.40936014]]\n",
      "26 day input [0.51513375 0.5848307  0.55696863 0.55445854 0.6620997  0.65042781\n",
      " 0.67368794 0.64791772 0.61503546 0.63026342 0.67707661 0.69364326\n",
      " 0.6882465  0.79387957 0.7999875  0.83855924 0.84922714 0.84788844\n",
      " 0.84688434 0.86803608 0.84250843 0.86360165 0.86368529 0.90198096\n",
      " 0.9474387  0.95987202 0.87902192 0.90503482 0.85441462 0.87403524\n",
      " 0.85843081 0.83178201 0.85253205 0.85884916 0.85073323 0.844458\n",
      " 0.862447   0.88478678 0.87821873 0.92503192 0.9378752  0.94285362\n",
      " 0.97477365 0.97636329 0.90432    0.90199876 0.89197659 0.87909275\n",
      " 0.8654539  0.85194856 0.83894658 0.82637954 0.81456196 0.80347401\n",
      " 0.79300737 0.78305733 0.77352643 0.76432538 0.75537455 0.74660504\n",
      " 0.73795944 0.72939104 0.72088361 0.71240407 0.70392513 0.69542909\n",
      " 0.68693578 0.67842644 0.66988355 0.66130334 0.65268499 0.64403105\n",
      " 0.63534433 0.6266278  0.61788517 0.60911995 0.60033602 0.59153724\n",
      " 0.5827266  0.57390583 0.56507438 0.55622864 0.54736108 0.53845948\n",
      " 0.52950662 0.52048081 0.5113588  0.5021199  0.49275342 0.4832685\n",
      " 0.4737052  0.4641467  0.45472535 0.44562393 0.4370648  0.42927727\n",
      " 0.42249048 0.4168635  0.41248065 0.40936014]\n"
     ]
    },
    {
     "name": "stdout",
     "output_type": "stream",
     "text": [
      "26 day output [[0.40743223]]\n",
      "27 day input [0.5848307  0.55696863 0.55445854 0.6620997  0.65042781 0.67368794\n",
      " 0.64791772 0.61503546 0.63026342 0.67707661 0.69364326 0.6882465\n",
      " 0.79387957 0.7999875  0.83855924 0.84922714 0.84788844 0.84688434\n",
      " 0.86803608 0.84250843 0.86360165 0.86368529 0.90198096 0.9474387\n",
      " 0.95987202 0.87902192 0.90503482 0.85441462 0.87403524 0.85843081\n",
      " 0.83178201 0.85253205 0.85884916 0.85073323 0.844458   0.862447\n",
      " 0.88478678 0.87821873 0.92503192 0.9378752  0.94285362 0.97477365\n",
      " 0.97636329 0.90432    0.90199876 0.89197659 0.87909275 0.8654539\n",
      " 0.85194856 0.83894658 0.82637954 0.81456196 0.80347401 0.79300737\n",
      " 0.78305733 0.77352643 0.76432538 0.75537455 0.74660504 0.73795944\n",
      " 0.72939104 0.72088361 0.71240407 0.70392513 0.69542909 0.68693578\n",
      " 0.67842644 0.66988355 0.66130334 0.65268499 0.64403105 0.63534433\n",
      " 0.6266278  0.61788517 0.60911995 0.60033602 0.59153724 0.5827266\n",
      " 0.57390583 0.56507438 0.55622864 0.54736108 0.53845948 0.52950662\n",
      " 0.52048081 0.5113588  0.5021199  0.49275342 0.4832685  0.4737052\n",
      " 0.4641467  0.45472535 0.44562393 0.4370648  0.42927727 0.42249048\n",
      " 0.4168635  0.41248065 0.40936014 0.40743223]\n",
      "27 day output [[0.40657005]]\n",
      "28 day input [0.55696863 0.55445854 0.6620997  0.65042781 0.67368794 0.64791772\n",
      " 0.61503546 0.63026342 0.67707661 0.69364326 0.6882465  0.79387957\n",
      " 0.7999875  0.83855924 0.84922714 0.84788844 0.84688434 0.86803608\n",
      " 0.84250843 0.86360165 0.86368529 0.90198096 0.9474387  0.95987202\n",
      " 0.87902192 0.90503482 0.85441462 0.87403524 0.85843081 0.83178201\n",
      " 0.85253205 0.85884916 0.85073323 0.844458   0.862447   0.88478678\n",
      " 0.87821873 0.92503192 0.9378752  0.94285362 0.97477365 0.97636329\n",
      " 0.90432    0.90199876 0.89197659 0.87909275 0.8654539  0.85194856\n",
      " 0.83894658 0.82637954 0.81456196 0.80347401 0.79300737 0.78305733\n",
      " 0.77352643 0.76432538 0.75537455 0.74660504 0.73795944 0.72939104\n",
      " 0.72088361 0.71240407 0.70392513 0.69542909 0.68693578 0.67842644\n",
      " 0.66988355 0.66130334 0.65268499 0.64403105 0.63534433 0.6266278\n",
      " 0.61788517 0.60911995 0.60033602 0.59153724 0.5827266  0.57390583\n",
      " 0.56507438 0.55622864 0.54736108 0.53845948 0.52950662 0.52048081\n",
      " 0.5113588  0.5021199  0.49275342 0.4832685  0.4737052  0.4641467\n",
      " 0.45472535 0.44562393 0.4370648  0.42927727 0.42249048 0.4168635\n",
      " 0.41248065 0.40936014 0.40743223 0.40657005]\n",
      "28 day output [[0.4066022]]\n",
      "29 day input [0.55445854 0.6620997  0.65042781 0.67368794 0.64791772 0.61503546\n",
      " 0.63026342 0.67707661 0.69364326 0.6882465  0.79387957 0.7999875\n",
      " 0.83855924 0.84922714 0.84788844 0.84688434 0.86803608 0.84250843\n",
      " 0.86360165 0.86368529 0.90198096 0.9474387  0.95987202 0.87902192\n",
      " 0.90503482 0.85441462 0.87403524 0.85843081 0.83178201 0.85253205\n",
      " 0.85884916 0.85073323 0.844458   0.862447   0.88478678 0.87821873\n",
      " 0.92503192 0.9378752  0.94285362 0.97477365 0.97636329 0.90432\n",
      " 0.90199876 0.89197659 0.87909275 0.8654539  0.85194856 0.83894658\n",
      " 0.82637954 0.81456196 0.80347401 0.79300737 0.78305733 0.77352643\n",
      " 0.76432538 0.75537455 0.74660504 0.73795944 0.72939104 0.72088361\n",
      " 0.71240407 0.70392513 0.69542909 0.68693578 0.67842644 0.66988355\n",
      " 0.66130334 0.65268499 0.64403105 0.63534433 0.6266278  0.61788517\n",
      " 0.60911995 0.60033602 0.59153724 0.5827266  0.57390583 0.56507438\n",
      " 0.55622864 0.54736108 0.53845948 0.52950662 0.52048081 0.5113588\n",
      " 0.5021199  0.49275342 0.4832685  0.4737052  0.4641467  0.45472535\n",
      " 0.44562393 0.4370648  0.42927727 0.42249048 0.4168635  0.41248065\n",
      " 0.40936014 0.40743223 0.40657005 0.4066022 ]\n",
      "29 day output [[0.4073486]]\n",
      "[[0.617885172367096], [0.6091199517250061], [0.6003360152244568], [0.5915372371673584], [0.5827265977859497], [0.5739058256149292], [0.5650743842124939], [0.5562286376953125], [0.5473610758781433], [0.5384594798088074], [0.5295066237449646], [0.5204808115959167], [0.5113587975502014], [0.5021198987960815], [0.49275341629981995], [0.48326849937438965], [0.4737052023410797], [0.4641467034816742], [0.45472535490989685], [0.4456239342689514], [0.4370647966861725], [0.4292772710323334], [0.4224904775619507], [0.41686350107192993], [0.4124806523323059], [0.4093601405620575], [0.4074322283267975], [0.40657004714012146], [0.4066022038459778], [0.4073486030101776]]\n"
     ]
    }
   ],
   "source": [
    "lst_output=[]\n",
    "n_steps=100\n",
    "nextNumberOfDays = 30\n",
    "i=0\n",
    "\n",
    "while(i<nextNumberOfDays):\n",
    "    \n",
    "    if(len(temp_input)>100):\n",
    "        x_input=np.array(temp_input[1:])\n",
    "        print(\"{} day input {}\".format(i,x_input))\n",
    "        x_input=x_input.reshape(1,-1)\n",
    "        x_input = x_input.reshape((1, n_steps, 1))\n",
    "        yhat = model.predict(x_input, verbose=0)\n",
    "        print(\"{} day output {}\".format(i,yhat))\n",
    "        temp_input.extend(yhat[0].tolist())\n",
    "        temp_input=temp_input[1:]\n",
    "        lst_output.extend(yhat.tolist())\n",
    "        i=i+1\n",
    "    else:\n",
    "        x_input = x_input.reshape((1, n_steps,1))\n",
    "        yhat = model.predict(x_input, verbose=0)\n",
    "        print(yhat[0])\n",
    "        temp_input.extend(yhat[0].tolist())\n",
    "        print(len(temp_input))\n",
    "        lst_output.extend(yhat.tolist())\n",
    "        i=i+1\n",
    "    \n",
    "\n",
    "print(lst_output)"
   ]
  },
  {
   "cell_type": "code",
   "execution_count": 40,
   "metadata": {},
   "outputs": [],
   "source": [
    "day_new = np.arange(1,101)\n",
    "day_pred = np.arange(101,131)"
   ]
  },
  {
   "cell_type": "code",
   "execution_count": 41,
   "metadata": {},
   "outputs": [],
   "source": [
    "df3 = df_close.tolist()\n",
    "df3.extend(lst_output)"
   ]
  },
  {
   "cell_type": "code",
   "execution_count": 42,
   "metadata": {},
   "outputs": [
    {
     "data": {
      "text/plain": [
       "1228"
      ]
     },
     "execution_count": 42,
     "metadata": {},
     "output_type": "execute_result"
    }
   ],
   "source": [
    "len(df_close)"
   ]
  },
  {
   "cell_type": "code",
   "execution_count": 43,
   "metadata": {},
   "outputs": [
    {
     "data": {
      "text/plain": [
       "[<matplotlib.lines.Line2D at 0x16de9de7730>]"
      ]
     },
     "execution_count": 43,
     "metadata": {},
     "output_type": "execute_result"
    },
    {
     "data": {
      "image/png": "[encoded data removed]",
      "text/plain": [
       "<Figure size 432x288 with 1 Axes>"
      ]
     },
     "metadata": {
      "needs_background": "light"
     },
     "output_type": "display_data"
    }
   ],
   "source": [
    "plt.plot(day_new, scaler.inverse_transform(df_close[1128:]))\n",
    "plt.plot(day_pred, scaler.inverse_transform(lst_output))"
   ]
  },
  {
   "cell_type": "code",
   "execution_count": null,
   "metadata": {},
   "outputs": [],
   "source": []
  }
 ],
 "metadata": {
  "kernelspec": {
   "display_name": "Python 3 (ipykernel)",
   "language": "python",
   "name": "python3"
  },
  "language_info": {
   "codemirror_mode": {
    "name": "ipython",
    "version": 3
   },
   "file_extension": ".py",
   "mimetype": "text/x-python",
   "name": "python",
   "nbconvert_exporter": "python",
   "pygments_lexer": "ipython3",
   "version": "3.10.0"
  }
 },
 "nbformat": 4,
 "nbformat_minor": 2
}
